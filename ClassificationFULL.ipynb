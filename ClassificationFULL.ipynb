{
 "cells": [
  {
   "cell_type": "code",
   "execution_count": 1,
   "metadata": {
    "id": "xCKN5sheT-la"
   },
   "outputs": [],
   "source": [
    "import pandas as pd\n",
    "from sklearn.model_selection import train_test_split\n",
    "import EnsembleClassificationInit as Ensemble #reuse trained\n",
    "import numpy as np"
   ]
  },
  {
   "cell_type": "code",
   "execution_count": 2,
   "metadata": {
    "id": "qj04wvWVazY4"
   },
   "outputs": [],
   "source": [
    "data = {'car' : ['https://raw.githubusercontent.com/ostapkharysh/PublicDatasets/master/Classification/car.csv', ['buying','maint','doors','persons','lug_boot','safety'], 'class'],\n",
    "        'obesity' : ['https://raw.githubusercontent.com/ostapkharysh/PublicDatasets/master/Classification/ObesityDataSet_raw_and_data_sinthetic.csv', ['Gender','Age','Height','Weight','family_history_with_overweight','FAVC','FCVC','NCP','CAEC','SMOKE','CH2O','SCC','FAF','TUE','CALC','MTRANS'], 'NObeyesdad'],\n",
    "        'chess' : ['https://raw.githubusercontent.com/ostapkharysh/PublicDatasets/master/Classification/kr-vs-kp.csv', ['1','2','3','4','5','6','7','8','9','10','11','12','14','16','17','18','19','20','21','22','23','24','25','26','27','28','29','30','31','32','33','34','35'], 'win'],\n",
    "        'tic-tac-toe': ['https://raw.githubusercontent.com/ostapkharysh/PublicDatasets/master/Classification/tic-tac-toe.csv',  ['tla', 'tms', 'trs' ,'mls','mms','mrs','bls','bms','brs'], 'class']\n",
    "         }"
   ]
  },
  {
   "cell_type": "code",
   "execution_count": 3,
   "metadata": {
    "id": "WrWEVs0MnyE7"
   },
   "outputs": [],
   "source": [
    "from sklearn.model_selection import GridSearchCV\n",
    "from sklearn import svm\n",
    "from sklearn.linear_model import SGDClassifier, LogisticRegression\n",
    "from sklearn.tree import DecisionTreeClassifier\n",
    "from sklearn.ensemble import RandomForestClassifier, RandomForestRegressor\n",
    "from sklearn.naive_bayes import MultinomialNB, BernoulliNB\n",
    "from sklearn.ensemble import AdaBoostClassifier\n",
    "from sklearn.neighbors import KNeighborsClassifier\n",
    "from sklearn.metrics import accuracy_score\n",
    "\n",
    "#from sklearn import metrics\n",
    "\n",
    "def class_train(x_train, y_train):\n",
    "        \"\"\"\n",
    "        Returns trained  classification models \n",
    "        \"\"\"\n",
    "        estimators = dict()\n",
    "        \n",
    "        estimators['mlr'] = LogisticRegression(multi_class='multinomial', solver='lbfgs', max_iter=1000000)\n",
    "        estimators['mlr'].fit(x_train, y_train)\n",
    "        \n",
    "        estimators['svm'] = svm.SVC(probability=True)\n",
    "        estimators['svm'].fit(x_train, y_train)\n",
    "\n",
    "        estimators['sgd'] = SGDClassifier(loss='log')\n",
    "        estimators['sgd'].fit(x_train, y_train)\n",
    "\n",
    "        estimators['rfc'] = RandomForestClassifier()\n",
    "        estimators['rfc'].fit(x_train, y_train)\n",
    "        \n",
    "        estimators['multNB'] = MultinomialNB() #Least Angle Regression\n",
    "        estimators['multNB'].fit(x_train, y_train)\n",
    "\n",
    "        estimators['bernNB'] = BernoulliNB() #Least Angle Regression\n",
    "        estimators['bernNB'].fit(x_train, y_train)\n",
    "        \n",
    "        leaf_size = list(range(10,50))\n",
    "        n_neighbors = list(range(1,20))\n",
    "        p=[1,2]\n",
    "        hyperparameters = dict(leaf_size=leaf_size, n_neighbors=n_neighbors, p=p)\n",
    "        estimators['knn'] = KNeighborsClassifier()\n",
    "        estimators['knn'] = GridSearchCV(estimators['knn'], hyperparameters, cv=10)\n",
    "        estimators['knn'].fit(x_train, y_train)\n",
    "        \n",
    "        estimators['ada'] = AdaBoostClassifier()\n",
    "        estimators['ada'].fit(x_train, y_train)\n",
    "\n",
    "        return estimators\n",
    "\n",
    "def class_scoring(estim, y, yhat):\n",
    "    \"\"\"\n",
    "    Returns classification scoring\n",
    "    \"\"\"\n",
    "    score = list()\n",
    "    classes = estim.classes_.tolist()\n",
    "    #print(classes)\n",
    "    for idx, el in enumerate(y):\n",
    "        indx_right_class = classes.index(el) # find the index of the right class prediction proba\n",
    "        score.append(1- yhat[idx][indx_right_class])\n",
    "    return score\n",
    "\n",
    "def class_prediction(df, df_competition, line, X, Y):\n",
    "    \"\"\"\n",
    "    Predict Y for classificationand record the error\n",
    "    \"\"\"\n",
    "    errors = dict()\n",
    "    accuracy = {'mlr':0, 'svm': 0, 'sgd':0, 'rfc': 0, 'multNB': 0, 'bernNB': 0, 'knn':0, 'ada': 0} # create dictionary to gather error scores for estimators\n",
    "    ######### TRAIN THE MODEL ###########\n",
    "    \n",
    "    x_train = df[X]\n",
    "    y_train = df[Y]\n",
    "    \n",
    "    estimators = class_train(x_train.values, y_train.values) # train estimators\n",
    "\n",
    "    ######### TEST THE MODEL ###########\n",
    "    x_competition = df_competition[X]\n",
    "    y_competition = df_competition[Y]\n",
    "\n",
    "    ######### SCORE THE MODEL ###########\n",
    "    for est in estimators.keys():\n",
    "        y_est = estimators[est].predict(x_competition.values)\n",
    "        accuracy[est] = accuracy_score(y_est.tolist(), df_competition[Y].tolist())\n",
    "\n",
    "    # return the data\n",
    "    return accuracy, estimators"
   ]
  },
  {
   "cell_type": "code",
   "execution_count": 4,
   "metadata": {
    "colab": {
     "base_uri": "https://localhost:8080/"
    },
    "id": "XUzlqbcI0jjb",
    "outputId": "29a5d2a9-d505-4154-e675-2c920fd0077a"
   },
   "outputs": [
    {
     "name": "stdout",
     "output_type": "stream",
     "text": [
      "Dataset: car\n",
      "Estimators Finished\n",
      "{'mlr': 0.9171483622350675, 'svm': 0.9730250481695568, 'sgd': 0.905587668593449, 'rfc': 0.9672447013487476, 'multNB': 0.8554913294797688, 'bernNB': 0.8631984585741811, 'knn': 0.9460500963391136, 'ada': 0.7957610789980732}\n",
      "Beta 3\n",
      "[403, 806, 1209]\n",
      "Beta 3\n",
      "[403, 806, 1209]\n",
      "Beta = 3\n",
      "Ensemble without priority: 0.7610789980732178 Ensemble with priority: 0.7976878612716763\n",
      "Beta 5\n",
      "[241, 482, 723, 964, 1205]\n"
     ]
    },
    {
     "name": "stderr",
     "output_type": "stream",
     "text": [
      "c:\\users\\user\\appdata\\local\\programs\\python\\python38\\lib\\site-packages\\sklearn\\model_selection\\_split.py:670: UserWarning: The least populated class in y has only 8 members, which is less than n_splits=10.\n",
      "  warnings.warn((\"The least populated class in y has only %d\"\n"
     ]
    },
    {
     "name": "stdout",
     "output_type": "stream",
     "text": [
      "Beta 5\n",
      "[241, 482, 723, 964, 1205]\n"
     ]
    },
    {
     "name": "stderr",
     "output_type": "stream",
     "text": [
      "c:\\users\\user\\appdata\\local\\programs\\python\\python38\\lib\\site-packages\\sklearn\\model_selection\\_split.py:670: UserWarning: The least populated class in y has only 8 members, which is less than n_splits=10.\n",
      "  warnings.warn((\"The least populated class in y has only %d\"\n"
     ]
    },
    {
     "name": "stdout",
     "output_type": "stream",
     "text": [
      "Beta = 5\n",
      "Ensemble without priority: 0.8554913294797688 Ensemble with priority: 0.9633911368015414\n",
      "Dataset: obesity\n",
      "Estimators Finished\n",
      "{'mlr': 0.831230283911672, 'svm': 0.5347003154574133, 'sgd': 0.556782334384858, 'rfc': 0.9589905362776026, 'multNB': 0.61198738170347, 'bernNB': 0.556782334384858, 'knn': 0.9100946372239748, 'ada': 0.31703470031545744}\n",
      "Beta 3\n",
      "[492, 984, 1476]\n"
     ]
    },
    {
     "name": "stderr",
     "output_type": "stream",
     "text": [
      "c:\\users\\user\\appdata\\local\\programs\\python\\python38\\lib\\site-packages\\sklearn\\linear_model\\_base.py:327: RuntimeWarning: invalid value encountered in true_divide\n",
      "  prob /= prob.sum(axis=1).reshape((prob.shape[0], -1))\n",
      "c:\\users\\user\\appdata\\local\\programs\\python\\python38\\lib\\site-packages\\sklearn\\linear_model\\_base.py:327: RuntimeWarning: invalid value encountered in true_divide\n",
      "  prob /= prob.sum(axis=1).reshape((prob.shape[0], -1))\n"
     ]
    },
    {
     "name": "stdout",
     "output_type": "stream",
     "text": [
      "Beta 3\n",
      "[492, 984, 1476]\n",
      "Beta = 3\n",
      "Ensemble without priority: 0.44637223974763407 Ensemble with priority: 0.9022082018927445\n",
      "Beta 5\n",
      "[295, 590, 885, 1180, 1475]\n",
      "Beta 5\n",
      "[295, 590, 885, 1180, 1475]\n"
     ]
    },
    {
     "name": "stderr",
     "output_type": "stream",
     "text": [
      "c:\\users\\user\\appdata\\local\\programs\\python\\python38\\lib\\site-packages\\sklearn\\linear_model\\_base.py:327: RuntimeWarning: invalid value encountered in true_divide\n",
      "  prob /= prob.sum(axis=1).reshape((prob.shape[0], -1))\n",
      "c:\\users\\user\\appdata\\local\\programs\\python\\python38\\lib\\site-packages\\sklearn\\linear_model\\_base.py:327: RuntimeWarning: invalid value encountered in true_divide\n",
      "  prob /= prob.sum(axis=1).reshape((prob.shape[0], -1))\n"
     ]
    },
    {
     "name": "stdout",
     "output_type": "stream",
     "text": [
      "Beta = 5\n",
      "Ensemble without priority: 0.7981072555205048 Ensemble with priority: 0.9069400630914827\n",
      "Dataset: chess\n",
      "Estimators Finished\n",
      "{'mlr': 0.959332638164755, 'svm': 0.9468196037539103, 'sgd': 0.9562043795620438, 'rfc': 0.9708029197080292, 'multNB': 0.8498435870698644, 'bernNB': 0.8508863399374348, 'knn': 0.9249217935349322, 'ada': 0.9572471324296142}\n",
      "Beta 3\n",
      "[745, 1490, 2235]\n",
      "Beta 3\n",
      "[745, 1490, 2235]\n",
      "Beta = 3\n",
      "Ensemble without priority: 0.8717413972888426 Ensemble with priority: 0.9655891553701773\n",
      "Beta 5\n",
      "[447, 894, 1341, 1788, 2235]\n",
      "Beta 5\n",
      "[447, 894, 1341, 1788, 2235]\n",
      "Beta = 5\n",
      "Ensemble without priority: 0.9124087591240876 Ensemble with priority: 0.9676746611053181\n",
      "Dataset: tic-tac-toe\n",
      "Estimators Finished\n",
      "{'mlr': 0.9826388888888888, 'svm': 0.9756944444444444, 'sgd': 0.9791666666666666, 'rfc': 0.9722222222222222, 'multNB': 0.6770833333333334, 'bernNB': 0.6666666666666666, 'knn': 0.96875, 'ada': 0.8576388888888888}\n",
      "Beta 3\n",
      "[223, 446, 669]\n",
      "Beta 3\n",
      "[223, 446, 669]\n",
      "Beta = 3\n",
      "Ensemble without priority: 0.9826388888888888 Ensemble with priority: 0.9826388888888888\n",
      "Beta 5\n",
      "[134, 268, 402, 536, 670]\n",
      "Beta 5\n",
      "[134, 268, 402, 536, 670]\n",
      "Beta = 5\n",
      "Ensemble without priority: 0.9756944444444444 Ensemble with priority: 0.9479166666666666\n"
     ]
    }
   ],
   "source": [
    "results = {}\n",
    "\n",
    "for idx, el in enumerate(data):\n",
    "        print(\"Dataset: \" + el)\n",
    "\n",
    "        results[el] = list()\n",
    "        \n",
    "        df = pd.read_csv(data[el][0], encoding=\"ISO-8859-1\")\n",
    "        #df.drop(columns = columns_to_drop[idx],inplace = True)\n",
    "        df = df.dropna()\n",
    "        \n",
    "        new_df = pd.get_dummies(df[data[el][1]])\n",
    "        X = new_df.columns\n",
    "        new_df[data[el][2]] = df[data[el][2]]\n",
    "\n",
    "        ds, competition = train_test_split(new_df, test_size=0.3)\n",
    "        ds = ds.reset_index(drop=True)\n",
    "        competition = competition.reset_index(drop=True)\n",
    "\n",
    "        \n",
    "        \n",
    "        #Estimators to compare\n",
    "        m_accuracy, estimators = class_prediction(ds,competition,idx, X=X, Y=data[el][2])\n",
    "        print(\"Estimators Finished\")\n",
    "        print(m_accuracy)\n",
    "        \n",
    "        #BETA = 3\n",
    "        #Assembly without priority\n",
    "\n",
    "        ensemble = Ensemble.analyze_assembly(learning_ds=ds, competition_ds=competition, X=X, Y=data[el][2],\n",
    "                                                        priority = False, beta=3)\n",
    "        \n",
    "        #Assembly with priority\n",
    "        ensemble_priority = Ensemble.analyze_assembly(learning_ds=ds, competition_ds=competition, X=X, Y=data[el][2],\n",
    "                                                        priority = True, beta=3)\n",
    "        print('Beta = 3')\n",
    "        print(\"Ensemble without priority: \" + str(ensemble) + \" Ensemble with priority: \" + str(ensemble_priority))\n",
    "        \n",
    "        #BETA = 5\n",
    "        #Assembly without priority\n",
    "        ensemble = Ensemble.analyze_assembly(learning_ds=ds, competition_ds=competition, X=X, Y=data[el][2],\n",
    "                                                        priority = False, beta=5)\n",
    "        \n",
    "        #Assembly with priority\n",
    "        ensemble_priority = Ensemble.analyze_assembly(learning_ds=ds, competition_ds=competition, X=X, Y=data[el][2],\n",
    "                                                        priority = True, beta=5)\n",
    "        print('Beta = 5')\n",
    "        print(\"Ensemble without priority: \" + str(ensemble) + \" Ensemble with priority: \" + str(ensemble_priority))"
   ]
  }
 ],
 "metadata": {
  "accelerator": "TPU",
  "colab": {
   "collapsed_sections": [],
   "name": "FinalComparisonWeighed.ipynb",
   "provenance": []
  },
  "kernelspec": {
   "display_name": "Python 3",
   "language": "python",
   "name": "python3"
  },
  "language_info": {
   "codemirror_mode": {
    "name": "ipython",
    "version": 3
   },
   "file_extension": ".py",
   "mimetype": "text/x-python",
   "name": "python",
   "nbconvert_exporter": "python",
   "pygments_lexer": "ipython3",
   "version": "3.8.7"
  }
 },
 "nbformat": 4,
 "nbformat_minor": 4
}
